{
 "cells": [
  {
   "cell_type": "markdown",
   "id": "981b7959",
   "metadata": {},
   "source": [
    "# E-commerce Data Analysis Project"
   ]
  },
  {
   "cell_type": "markdown",
   "id": "e52f53b5",
   "metadata": {},
   "source": [
    "## 🎯 Project Objectives"
   ]
  },
  {
   "cell_type": "markdown",
   "id": "0d2df58b",
   "metadata": {},
   "source": [
    "The goal of this project is to explore and analyze customer order data to extract meaningful business insights and build interactive dashboards. Specifically, the project aims to:\n",
    "\n",
    "1. **Customer Behavior Analysis**  \n",
    "   Understand who spends more, identify high-frequency buyers, assess age and gender trends, and evaluate the impact of shipping fees on customer purchasing behavior.\n",
    "\n",
    "2. **Sales and Revenue Trend Tracking**  \n",
    "   Analyze revenue and order trends over time (monthly, quarterly), identify seasonal peaks, track performance by region, product, and customer demographics.\n",
    "\n",
    "3. **Product Performance Insights**  \n",
    "   Evaluate which products are top performers based on revenue and quantity sold, assess delivery success rates, identify region-specific vs. universally popular products.\n",
    "\n",
    "4. **Business KPI Monitoring**  \n",
    "   Track key performance indicators such as average order value (AOV), order volume, units sold, shipping status completion rates, and customer repeat rate.\n",
    "\n",
    "5. **Dashboard Development**  \n",
    "   Create interactive and visually engaging dashboards in Power BI for stakeholder communication and ongoing business monitoring."
   ]
  },
  {
   "cell_type": "markdown",
   "id": "e49eee8c",
   "metadata": {},
   "source": [
    "## Load Data"
   ]
  },
  {
   "cell_type": "code",
   "execution_count": 1,
   "id": "dc36fcd0",
   "metadata": {},
   "outputs": [],
   "source": [
    "# Import libraries\n",
    "import pandas as pd"
   ]
  },
  {
   "cell_type": "code",
   "execution_count": 11,
   "id": "b279b1b5",
   "metadata": {},
   "outputs": [
    {
     "name": "stdout",
     "output_type": "stream",
     "text": [
      "<class 'pandas.core.frame.DataFrame'>\n",
      "RangeIndex: 1000 entries, 0 to 999\n",
      "Data columns (total 12 columns):\n",
      " #   Column           Non-Null Count  Dtype  \n",
      "---  ------           --------------  -----  \n",
      " 0   Customer ID      1000 non-null   object \n",
      " 1   Gender           1000 non-null   object \n",
      " 2   Region           950 non-null    object \n",
      " 3   Age              900 non-null    float64\n",
      " 4   Product Name     1000 non-null   object \n",
      " 5   Category         1000 non-null   object \n",
      " 6   Unit Price       1000 non-null   float64\n",
      " 7   Quantity         1000 non-null   int64  \n",
      " 8   Total Price      1000 non-null   int64  \n",
      " 9   Shipping Fee     1000 non-null   float64\n",
      " 10  Shipping Status  950 non-null    object \n",
      " 11  Order Date       1000 non-null   object \n",
      "dtypes: float64(3), int64(2), object(7)\n",
      "memory usage: 93.9+ KB\n"
     ]
    },
    {
     "data": {
      "text/html": [
       "<div>\n",
       "<style scoped>\n",
       "    .dataframe tbody tr th:only-of-type {\n",
       "        vertical-align: middle;\n",
       "    }\n",
       "\n",
       "    .dataframe tbody tr th {\n",
       "        vertical-align: top;\n",
       "    }\n",
       "\n",
       "    .dataframe thead th {\n",
       "        text-align: right;\n",
       "    }\n",
       "</style>\n",
       "<table border=\"1\" class=\"dataframe\">\n",
       "  <thead>\n",
       "    <tr style=\"text-align: right;\">\n",
       "      <th></th>\n",
       "      <th>Customer ID</th>\n",
       "      <th>Gender</th>\n",
       "      <th>Region</th>\n",
       "      <th>Age</th>\n",
       "      <th>Product Name</th>\n",
       "      <th>Category</th>\n",
       "      <th>Unit Price</th>\n",
       "      <th>Quantity</th>\n",
       "      <th>Total Price</th>\n",
       "      <th>Shipping Fee</th>\n",
       "      <th>Shipping Status</th>\n",
       "      <th>Order Date</th>\n",
       "    </tr>\n",
       "  </thead>\n",
       "  <tbody>\n",
       "    <tr>\n",
       "      <th>0</th>\n",
       "      <td>CUST0268</td>\n",
       "      <td>Male</td>\n",
       "      <td>North</td>\n",
       "      <td>NaN</td>\n",
       "      <td>Monitor</td>\n",
       "      <td>Electronics</td>\n",
       "      <td>300.0</td>\n",
       "      <td>5</td>\n",
       "      <td>1500</td>\n",
       "      <td>13.31</td>\n",
       "      <td>Returned</td>\n",
       "      <td>2023-12-08</td>\n",
       "    </tr>\n",
       "    <tr>\n",
       "      <th>1</th>\n",
       "      <td>CUST0046</td>\n",
       "      <td>Male</td>\n",
       "      <td>West</td>\n",
       "      <td>22.0</td>\n",
       "      <td>Headphones</td>\n",
       "      <td>Accessories</td>\n",
       "      <td>100.0</td>\n",
       "      <td>2</td>\n",
       "      <td>200</td>\n",
       "      <td>6.93</td>\n",
       "      <td>In Transit</td>\n",
       "      <td>2023-04-09</td>\n",
       "    </tr>\n",
       "    <tr>\n",
       "      <th>2</th>\n",
       "      <td>CUST0169</td>\n",
       "      <td>Female</td>\n",
       "      <td>South</td>\n",
       "      <td>54.0</td>\n",
       "      <td>Monitor</td>\n",
       "      <td>Electronics</td>\n",
       "      <td>300.0</td>\n",
       "      <td>1</td>\n",
       "      <td>300</td>\n",
       "      <td>11.31</td>\n",
       "      <td>Returned</td>\n",
       "      <td>2023-08-28</td>\n",
       "    </tr>\n",
       "    <tr>\n",
       "      <th>3</th>\n",
       "      <td>CUST0002</td>\n",
       "      <td>Male</td>\n",
       "      <td>North</td>\n",
       "      <td>23.0</td>\n",
       "      <td>Headphones</td>\n",
       "      <td>Accessories</td>\n",
       "      <td>100.0</td>\n",
       "      <td>5</td>\n",
       "      <td>500</td>\n",
       "      <td>12.22</td>\n",
       "      <td>Delivered</td>\n",
       "      <td>2023-01-18</td>\n",
       "    </tr>\n",
       "    <tr>\n",
       "      <th>4</th>\n",
       "      <td>CUST0173</td>\n",
       "      <td>Female</td>\n",
       "      <td>South</td>\n",
       "      <td>NaN</td>\n",
       "      <td>Laptop</td>\n",
       "      <td>Electronics</td>\n",
       "      <td>1500.0</td>\n",
       "      <td>3</td>\n",
       "      <td>4500</td>\n",
       "      <td>5.40</td>\n",
       "      <td>Delivered</td>\n",
       "      <td>2023-01-19</td>\n",
       "    </tr>\n",
       "  </tbody>\n",
       "</table>\n",
       "</div>"
      ],
      "text/plain": [
       "  Customer ID  Gender Region   Age Product Name     Category  Unit Price  \\\n",
       "0    CUST0268    Male  North   NaN      Monitor  Electronics       300.0   \n",
       "1    CUST0046    Male   West  22.0   Headphones  Accessories       100.0   \n",
       "2    CUST0169  Female  South  54.0      Monitor  Electronics       300.0   \n",
       "3    CUST0002    Male  North  23.0   Headphones  Accessories       100.0   \n",
       "4    CUST0173  Female  South   NaN       Laptop  Electronics      1500.0   \n",
       "\n",
       "   Quantity  Total Price  Shipping Fee Shipping Status  Order Date  \n",
       "0         5         1500         13.31        Returned  2023-12-08  \n",
       "1         2          200          6.93      In Transit  2023-04-09  \n",
       "2         1          300         11.31        Returned  2023-08-28  \n",
       "3         5          500         12.22       Delivered  2023-01-18  \n",
       "4         3         4500          5.40       Delivered  2023-01-19  "
      ]
     },
     "execution_count": 11,
     "metadata": {},
     "output_type": "execute_result"
    }
   ],
   "source": [
    "# Load data\n",
    "df = pd.read_csv(\"../data/raw_orders.csv\")\n",
    "df.shape\n",
    "df.info()\n",
    "df.head()"
   ]
  },
  {
   "cell_type": "code",
   "execution_count": 8,
   "id": "2b24152e",
   "metadata": {},
   "outputs": [],
   "source": [
    "# Check for null values\n",
    "# df.isnull().sum()"
   ]
  },
  {
   "cell_type": "code",
   "execution_count": 15,
   "id": "66c7070e",
   "metadata": {},
   "outputs": [
    {
     "data": {
      "text/plain": [
       "810"
      ]
     },
     "execution_count": 15,
     "metadata": {},
     "output_type": "execute_result"
    }
   ],
   "source": [
    "# Drop null values\n",
    "df.dropna(inplace=True)\n",
    "# Recheck shape\n",
    "len(df)"
   ]
  },
  {
   "cell_type": "code",
   "execution_count": 16,
   "id": "d6e4c550",
   "metadata": {},
   "outputs": [],
   "source": [
    "# Type conversions\n",
    "# Convert `Age` column to `int`\n",
    "df[\"Age\"] = df[\"Age\"].astype(int)\n",
    "# Total price to float\n",
    "df[\"Total Price\"] = df[\"Total Price\"].astype(float)\n",
    "# Order Date to date\n",
    "df[\"Order Date\"] = pd.to_datetime(df[\"Order Date\"])"
   ]
  },
  {
   "cell_type": "code",
   "execution_count": 18,
   "id": "e087a3c5",
   "metadata": {},
   "outputs": [],
   "source": [
    "# Confirm type conversion\n",
    "# df.info()"
   ]
  },
  {
   "cell_type": "markdown",
   "id": "04242f94",
   "metadata": {},
   "source": [
    "## Initial EDA"
   ]
  },
  {
   "cell_type": "markdown",
   "id": "6bd0d861",
   "metadata": {},
   "source": [
    "## Data Cleaning"
   ]
  },
  {
   "cell_type": "markdown",
   "id": "7188fe2e",
   "metadata": {},
   "source": [
    "## Feature Engineering"
   ]
  },
  {
   "cell_type": "markdown",
   "id": "f005384a",
   "metadata": {},
   "source": [
    "## Saving Results"
   ]
  },
  {
   "cell_type": "markdown",
   "id": "41c43539",
   "metadata": {},
   "source": [
    "## Summary of Cleaning Steps"
   ]
  },
  {
   "cell_type": "markdown",
   "id": "6bd5b9b4",
   "metadata": {},
   "source": [
    "## Notes"
   ]
  },
  {
   "cell_type": "markdown",
   "id": "57f1442f",
   "metadata": {},
   "source": [
    "1. Removed all null values - leading to a loss of about 19% of the data"
   ]
  },
  {
   "cell_type": "markdown",
   "id": "311e05a1",
   "metadata": {},
   "source": []
  }
 ],
 "metadata": {
  "kernelspec": {
   "display_name": "base",
   "language": "python",
   "name": "python3"
  },
  "language_info": {
   "codemirror_mode": {
    "name": "ipython",
    "version": 3
   },
   "file_extension": ".py",
   "mimetype": "text/x-python",
   "name": "python",
   "nbconvert_exporter": "python",
   "pygments_lexer": "ipython3",
   "version": "3.10.9"
  }
 },
 "nbformat": 4,
 "nbformat_minor": 5
}
