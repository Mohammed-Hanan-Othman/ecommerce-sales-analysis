{
 "cells": [
  {
   "cell_type": "markdown",
   "id": "981b7959",
   "metadata": {},
   "source": [
    "# E-commerce Data Analysis Project"
   ]
  },
  {
   "cell_type": "markdown",
   "id": "e52f53b5",
   "metadata": {},
   "source": [
    "## 🎯 Project Objectives"
   ]
  },
  {
   "cell_type": "markdown",
   "id": "0d2df58b",
   "metadata": {},
   "source": [
    "The goal of this project is to explore and analyze customer order data to extract meaningful business insights and build interactive dashboards. Specifically, the project aims to:\n",
    "\n",
    "1. **Customer Behavior Analysis**  \n",
    "   Understand who spends more, identify high-frequency buyers, assess age and gender trends, and evaluate the impact of shipping fees on customer purchasing behavior.\n",
    "\n",
    "2. **Sales and Revenue Trend Tracking**  \n",
    "   Analyze revenue and order trends over time (monthly, quarterly), identify seasonal peaks, track performance by region, product, and customer demographics.\n",
    "\n",
    "3. **Product Performance Insights**  \n",
    "   Evaluate which products are top performers based on revenue and quantity sold, assess delivery success rates, identify region-specific vs. universally popular products.\n",
    "\n",
    "4. **Business KPI Monitoring**  \n",
    "   Track key performance indicators such as average order value (AOV), order volume, units sold, shipping status completion rates, and customer repeat rate.\n",
    "\n",
    "5. **Dashboard Development**  \n",
    "   Create interactive and visually engaging dashboards in Power BI for stakeholder communication and ongoing business monitoring."
   ]
  },
  {
   "cell_type": "markdown",
   "id": "e49eee8c",
   "metadata": {},
   "source": [
    "## Load Data"
   ]
  },
  {
   "cell_type": "code",
   "execution_count": 1,
   "id": "dc36fcd0",
   "metadata": {},
   "outputs": [],
   "source": [
    "# Import libraries\n",
    "import pandas as pd\n",
    "import matplotlib.pyplot as plt"
   ]
  },
  {
   "cell_type": "code",
   "execution_count": 2,
   "id": "b279b1b5",
   "metadata": {},
   "outputs": [
    {
     "name": "stdout",
     "output_type": "stream",
     "text": [
      "<class 'pandas.core.frame.DataFrame'>\n",
      "RangeIndex: 1000 entries, 0 to 999\n",
      "Data columns (total 12 columns):\n",
      " #   Column           Non-Null Count  Dtype  \n",
      "---  ------           --------------  -----  \n",
      " 0   Customer ID      1000 non-null   object \n",
      " 1   Gender           1000 non-null   object \n",
      " 2   Region           950 non-null    object \n",
      " 3   Age              900 non-null    float64\n",
      " 4   Product Name     1000 non-null   object \n",
      " 5   Category         1000 non-null   object \n",
      " 6   Unit Price       1000 non-null   float64\n",
      " 7   Quantity         1000 non-null   int64  \n",
      " 8   Total Price      1000 non-null   int64  \n",
      " 9   Shipping Fee     1000 non-null   float64\n",
      " 10  Shipping Status  950 non-null    object \n",
      " 11  Order Date       1000 non-null   object \n",
      "dtypes: float64(3), int64(2), object(7)\n",
      "memory usage: 93.9+ KB\n"
     ]
    },
    {
     "data": {
      "text/html": [
       "<div>\n",
       "<style scoped>\n",
       "    .dataframe tbody tr th:only-of-type {\n",
       "        vertical-align: middle;\n",
       "    }\n",
       "\n",
       "    .dataframe tbody tr th {\n",
       "        vertical-align: top;\n",
       "    }\n",
       "\n",
       "    .dataframe thead th {\n",
       "        text-align: right;\n",
       "    }\n",
       "</style>\n",
       "<table border=\"1\" class=\"dataframe\">\n",
       "  <thead>\n",
       "    <tr style=\"text-align: right;\">\n",
       "      <th></th>\n",
       "      <th>Customer ID</th>\n",
       "      <th>Gender</th>\n",
       "      <th>Region</th>\n",
       "      <th>Age</th>\n",
       "      <th>Product Name</th>\n",
       "      <th>Category</th>\n",
       "      <th>Unit Price</th>\n",
       "      <th>Quantity</th>\n",
       "      <th>Total Price</th>\n",
       "      <th>Shipping Fee</th>\n",
       "      <th>Shipping Status</th>\n",
       "      <th>Order Date</th>\n",
       "    </tr>\n",
       "  </thead>\n",
       "  <tbody>\n",
       "    <tr>\n",
       "      <th>0</th>\n",
       "      <td>CUST0268</td>\n",
       "      <td>Male</td>\n",
       "      <td>North</td>\n",
       "      <td>NaN</td>\n",
       "      <td>Monitor</td>\n",
       "      <td>Electronics</td>\n",
       "      <td>300.0</td>\n",
       "      <td>5</td>\n",
       "      <td>1500</td>\n",
       "      <td>13.31</td>\n",
       "      <td>Returned</td>\n",
       "      <td>2023-12-08</td>\n",
       "    </tr>\n",
       "    <tr>\n",
       "      <th>1</th>\n",
       "      <td>CUST0046</td>\n",
       "      <td>Male</td>\n",
       "      <td>West</td>\n",
       "      <td>22.0</td>\n",
       "      <td>Headphones</td>\n",
       "      <td>Accessories</td>\n",
       "      <td>100.0</td>\n",
       "      <td>2</td>\n",
       "      <td>200</td>\n",
       "      <td>6.93</td>\n",
       "      <td>In Transit</td>\n",
       "      <td>2023-04-09</td>\n",
       "    </tr>\n",
       "    <tr>\n",
       "      <th>2</th>\n",
       "      <td>CUST0169</td>\n",
       "      <td>Female</td>\n",
       "      <td>South</td>\n",
       "      <td>54.0</td>\n",
       "      <td>Monitor</td>\n",
       "      <td>Electronics</td>\n",
       "      <td>300.0</td>\n",
       "      <td>1</td>\n",
       "      <td>300</td>\n",
       "      <td>11.31</td>\n",
       "      <td>Returned</td>\n",
       "      <td>2023-08-28</td>\n",
       "    </tr>\n",
       "    <tr>\n",
       "      <th>3</th>\n",
       "      <td>CUST0002</td>\n",
       "      <td>Male</td>\n",
       "      <td>North</td>\n",
       "      <td>23.0</td>\n",
       "      <td>Headphones</td>\n",
       "      <td>Accessories</td>\n",
       "      <td>100.0</td>\n",
       "      <td>5</td>\n",
       "      <td>500</td>\n",
       "      <td>12.22</td>\n",
       "      <td>Delivered</td>\n",
       "      <td>2023-01-18</td>\n",
       "    </tr>\n",
       "    <tr>\n",
       "      <th>4</th>\n",
       "      <td>CUST0173</td>\n",
       "      <td>Female</td>\n",
       "      <td>South</td>\n",
       "      <td>NaN</td>\n",
       "      <td>Laptop</td>\n",
       "      <td>Electronics</td>\n",
       "      <td>1500.0</td>\n",
       "      <td>3</td>\n",
       "      <td>4500</td>\n",
       "      <td>5.40</td>\n",
       "      <td>Delivered</td>\n",
       "      <td>2023-01-19</td>\n",
       "    </tr>\n",
       "  </tbody>\n",
       "</table>\n",
       "</div>"
      ],
      "text/plain": [
       "  Customer ID  Gender Region   Age Product Name     Category  Unit Price  \\\n",
       "0    CUST0268    Male  North   NaN      Monitor  Electronics       300.0   \n",
       "1    CUST0046    Male   West  22.0   Headphones  Accessories       100.0   \n",
       "2    CUST0169  Female  South  54.0      Monitor  Electronics       300.0   \n",
       "3    CUST0002    Male  North  23.0   Headphones  Accessories       100.0   \n",
       "4    CUST0173  Female  South   NaN       Laptop  Electronics      1500.0   \n",
       "\n",
       "   Quantity  Total Price  Shipping Fee Shipping Status  Order Date  \n",
       "0         5         1500         13.31        Returned  2023-12-08  \n",
       "1         2          200          6.93      In Transit  2023-04-09  \n",
       "2         1          300         11.31        Returned  2023-08-28  \n",
       "3         5          500         12.22       Delivered  2023-01-18  \n",
       "4         3         4500          5.40       Delivered  2023-01-19  "
      ]
     },
     "execution_count": 2,
     "metadata": {},
     "output_type": "execute_result"
    }
   ],
   "source": [
    "# Load data\n",
    "df = pd.read_csv(\"../data/raw_orders.csv\")\n",
    "df.shape\n",
    "df.info()\n",
    "df.head()"
   ]
  },
  {
   "cell_type": "code",
   "execution_count": 8,
   "id": "2b24152e",
   "metadata": {},
   "outputs": [],
   "source": [
    "# Check for null values\n",
    "# df.isnull().sum()"
   ]
  },
  {
   "cell_type": "code",
   "execution_count": 3,
   "id": "66c7070e",
   "metadata": {},
   "outputs": [
    {
     "data": {
      "text/plain": [
       "810"
      ]
     },
     "execution_count": 3,
     "metadata": {},
     "output_type": "execute_result"
    }
   ],
   "source": [
    "# Drop null values\n",
    "df.dropna(inplace=True)\n",
    "# Recheck shape\n",
    "len(df)"
   ]
  },
  {
   "cell_type": "code",
   "execution_count": 4,
   "id": "d6e4c550",
   "metadata": {},
   "outputs": [],
   "source": [
    "# Type conversions\n",
    "# Convert `Age` column to `int`\n",
    "df[\"Age\"] = df[\"Age\"].astype(int)\n",
    "# Total price to float\n",
    "df[\"Total Price\"] = df[\"Total Price\"].astype(float)\n",
    "# Order Date to date\n",
    "df[\"Order Date\"] = pd.to_datetime(df[\"Order Date\"])"
   ]
  },
  {
   "cell_type": "code",
   "execution_count": 18,
   "id": "e087a3c5",
   "metadata": {},
   "outputs": [],
   "source": [
    "# Confirm type conversion\n",
    "# df.info()"
   ]
  },
  {
   "cell_type": "markdown",
   "id": "04242f94",
   "metadata": {},
   "source": [
    "## Initial EDA"
   ]
  },
  {
   "cell_type": "markdown",
   "id": "b7f8bcff",
   "metadata": {},
   "source": [
    "Here, we would do a very basic exploration of the data, and create very simple and intuitive visualization. Advanced visualizations are performed in subsequent files. Refer to `notebooks/`, `../reports/`, and `../dashboard/` directories."
   ]
  },
  {
   "cell_type": "code",
   "execution_count": 40,
   "id": "c929a08a",
   "metadata": {},
   "outputs": [
    {
     "data": {
      "text/plain": [
       "Text(0.5, 0, 'Ages')"
      ]
     },
     "execution_count": 40,
     "metadata": {},
     "output_type": "execute_result"
    },
    {
     "data": {
      "image/png": "[encoded data removed]",
      "text/plain": [
       "<Figure size 640x480 with 1 Axes>"
      ]
     },
     "metadata": {},
     "output_type": "display_data"
    }
   ],
   "source": [
    "# Histogram of purchases broken down by age\n",
    "df[\"Age\"].hist(bins=5)\n",
    "plt.title(\"Orders by Age\")\n",
    "plt.ylabel(\"Number of Orders\")\n",
    "plt.xlabel(\"Ages\")\n",
    "# plt.show()"
   ]
  },
  {
   "cell_type": "code",
   "execution_count": 41,
   "id": "333ee06e",
   "metadata": {},
   "outputs": [
    {
     "data": {
      "text/plain": [
       "Text(0.5, 0, 'Shipping Status')"
      ]
     },
     "execution_count": 41,
     "metadata": {},
     "output_type": "execute_result"
    },
    {
     "data": {
      "image/png": "[encoded data removed]",
      "text/plain": [
       "<Figure size 640x480 with 1 Axes>"
      ]
     },
     "metadata": {},
     "output_type": "display_data"
    }
   ],
   "source": [
    "# Orders by categories\n",
    "df[\"Shipping Status\"].hist()\n",
    "plt.title(\"Orders by Shipping Status\")\n",
    "plt.ylabel(\"Number of Orders\")\n",
    "plt.xlabel(\"Shipping Status\")\n"
   ]
  },
  {
   "cell_type": "markdown",
   "id": "f6fdaaf3",
   "metadata": {},
   "source": [
    "Now, let's look a little deeper into what kinds of goods are still in transit"
   ]
  },
  {
   "cell_type": "code",
   "execution_count": 42,
   "id": "305da41c",
   "metadata": {},
   "outputs": [],
   "source": [
    "mask_transit = df[\"Shipping Status\"] == \"In Transit\""
   ]
  },
  {
   "cell_type": "code",
   "execution_count": 44,
   "id": "185f7d3f",
   "metadata": {},
   "outputs": [
    {
     "data": {
      "text/plain": [
       "Text(0.5, 0, 'Product Category')"
      ]
     },
     "execution_count": 44,
     "metadata": {},
     "output_type": "execute_result"
    },
    {
     "data": {
      "image/png": "[encoded data removed]",
      "text/plain": [
       "<Figure size 640x480 with 1 Axes>"
      ]
     },
     "metadata": {},
     "output_type": "display_data"
    }
   ],
   "source": [
    "df_filtered = df[mask_transit]\n",
    "df_filtered[\"Category\"].hist()\n",
    "plt.title(\"'In Transit' Orders by Category\")\n",
    "plt.ylabel(\"Number of Orders\")\n",
    "plt.xlabel(\"Product Category\")"
   ]
  },
  {
   "cell_type": "markdown",
   "id": "2440de4a",
   "metadata": {},
   "source": [
    "It appears that **Electronics** are typically in transit more than any other category of goods.\n",
    "More visualization and in-depth analysis would be done in separate files."
   ]
  },
  {
   "cell_type": "markdown",
   "id": "7188fe2e",
   "metadata": {},
   "source": [
    "## Feature Engineering"
   ]
  },
  {
   "cell_type": "markdown",
   "id": "cde47063",
   "metadata": {},
   "source": [
    "We would proceed to engineer features that would allow a more thorough analysis of the data."
   ]
  },
  {
   "cell_type": "code",
   "execution_count": 5,
   "id": "78ab0ce6",
   "metadata": {},
   "outputs": [],
   "source": [
    "# Date and time feature engineering\n",
    "# Create year, month, and quarter, week\n",
    "df[\"Order Year\"] = df[\"Order Date\"].dt.year\n",
    "df[\"Order Month\"] = df[\"Order Date\"].dt.month\n",
    "df[\"Order Quarter\"] = df[\"Order Date\"].dt.quarter\n",
    "df[\"Order Day of Week\"] = df[\"Order Date\"].dt.day_of_week # 0 for Sunday, 6 for Saturday\n",
    "df[\"Order Week\"] = df[\"Order Date\"].dt.isocalendar().week\n"
   ]
  },
  {
   "cell_type": "code",
   "execution_count": 53,
   "id": "0476405c",
   "metadata": {},
   "outputs": [],
   "source": [
    "# Create age bins\n",
    "age_bracket_labels = [\"Young Adults\", \"Adults\", \"Mid-Age\", \"Older Adults\",\"Seniors\", \"Retired\"]\n",
    "age_brackets = [17, 25, 35, 45, 55, 65, 100]\n",
    "df[\"Age Group\"] = pd.cut(df[\"Age\"], bins=age_brackets, labels=age_bracket_labels, right=True)"
   ]
  },
  {
   "cell_type": "code",
   "execution_count": 52,
   "id": "28998736",
   "metadata": {},
   "outputs": [],
   "source": [
    "df.drop(columns=\"Age Group\", inplace=True)"
   ]
  },
  {
   "cell_type": "code",
   "execution_count": 61,
   "id": "ec9bdc8b",
   "metadata": {},
   "outputs": [],
   "source": [
    "# Verify `Total Price` calculation\n",
    "df[\"Total Price Calc\"] = df[\"Unit Price\"] * df [\"Quantity\"]\n",
    "df[\"Total Price Check\"] = df[\"Total Price\"] == df[\"Total Price Calc\"]"
   ]
  },
  {
   "cell_type": "code",
   "execution_count": 76,
   "id": "afa2e381",
   "metadata": {},
   "outputs": [],
   "source": [
    "# Check the `Total Price Check`\n",
    "mismatch = (df[df[\"Total Price Calc\"] != df[\"Total Price\"]])\n",
    "# mismatch[[\"Unit Price\", \"Quantity\", \"Total Price\", \"Total Price Calc\"]].head()"
   ]
  },
  {
   "cell_type": "markdown",
   "id": "edc065f6",
   "metadata": {},
   "source": [
    "The original `Total Price` column has wrong calculation for about `2%`. As such it is replaced by the calculated `Total Price Calc` column"
   ]
  },
  {
   "cell_type": "code",
   "execution_count": 77,
   "id": "a0547aea",
   "metadata": {},
   "outputs": [],
   "source": [
    "df.drop(columns=[\"Total Price\",\"Total Price Check\"], inplace=True)"
   ]
  },
  {
   "cell_type": "markdown",
   "id": "98f6d169",
   "metadata": {},
   "source": [
    "Feature Engineering for high shipping fees and age group would be skipped for the time being."
   ]
  },
  {
   "cell_type": "markdown",
   "id": "f005384a",
   "metadata": {},
   "source": [
    "## Saving Results"
   ]
  },
  {
   "cell_type": "code",
   "execution_count": 80,
   "id": "294f658c",
   "metadata": {},
   "outputs": [],
   "source": [
    "# Save cleaned dataframe as csv\n",
    "df.to_csv(\"../data/cleaned_orders.csv\", index=False)"
   ]
  },
  {
   "cell_type": "markdown",
   "id": "41c43539",
   "metadata": {},
   "source": [
    "## Summary of Cleaning Steps"
   ]
  },
  {
   "cell_type": "markdown",
   "id": "c711c8af",
   "metadata": {},
   "source": [
    "**Cleaning Steps Carried Out**\n",
    "1. Loading of data into dataframe\n",
    "1. Type conversions for selected features\n",
    "1. Dropping null values\n",
    "1. Feature Engineering for Dates and Age brackets\n",
    "1. Verifying the `Total Price` feature\n",
    "1. Saving dataframe to csv file in `../data/` directory"
   ]
  },
  {
   "cell_type": "markdown",
   "id": "6bd5b9b4",
   "metadata": {},
   "source": [
    "## Notes"
   ]
  },
  {
   "cell_type": "markdown",
   "id": "57f1442f",
   "metadata": {},
   "source": [
    "1. Removed all null values - leading to a loss of about 19% of the data\n",
    "1. A new calculated field `Total Price Calc` replaced the `Total Price` due to inconsistent calculations of the latter from the original dataset."
   ]
  },
  {
   "cell_type": "markdown",
   "id": "311e05a1",
   "metadata": {},
   "source": [
    "## Usage Information"
   ]
  },
  {
   "cell_type": "markdown",
   "id": "456f133e",
   "metadata": {},
   "source": [
    "This notebook and the code therein is intended for educational purposes only."
   ]
  }
 ],
 "metadata": {
  "kernelspec": {
   "display_name": "base",
   "language": "python",
   "name": "python3"
  },
  "language_info": {
   "codemirror_mode": {
    "name": "ipython",
    "version": 3
   },
   "file_extension": ".py",
   "mimetype": "text/x-python",
   "name": "python",
   "nbconvert_exporter": "python",
   "pygments_lexer": "ipython3",
   "version": "3.10.9"
  }
 },
 "nbformat": 4,
 "nbformat_minor": 5
}
