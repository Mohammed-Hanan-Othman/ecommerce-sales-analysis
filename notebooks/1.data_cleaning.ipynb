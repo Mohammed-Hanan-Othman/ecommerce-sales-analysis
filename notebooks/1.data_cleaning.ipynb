{
 "cells": [
  {
   "cell_type": "markdown",
   "id": "981b7959",
   "metadata": {},
   "source": [
    "# E-commerce Data Analysis Project"
   ]
  },
  {
   "cell_type": "markdown",
   "id": "e52f53b5",
   "metadata": {},
   "source": [
    "## 🎯 Project Objectives"
   ]
  },
  {
   "cell_type": "markdown",
   "id": "0d2df58b",
   "metadata": {},
   "source": [
    "The goal of this project is to explore and analyze customer order data to extract meaningful business insights and build interactive dashboards. Specifically, the project aims to:\n",
    "\n",
    "1. **Customer Behavior Analysis**  \n",
    "   Understand who spends more, identify high-frequency buyers, assess age and gender trends, and evaluate the impact of shipping fees on customer purchasing behavior.\n",
    "\n",
    "2. **Sales and Revenue Trend Tracking**  \n",
    "   Analyze revenue and order trends over time (monthly, quarterly), identify seasonal peaks, track performance by region, product, and customer demographics.\n",
    "\n",
    "3. **Product Performance Insights**  \n",
    "   Evaluate which products are top performers based on revenue and quantity sold, assess delivery success rates, identify region-specific vs. universally popular products.\n",
    "\n",
    "4. **Business KPI Monitoring**  \n",
    "   Track key performance indicators such as average order value (AOV), order volume, units sold, shipping status completion rates, and customer repeat rate.\n",
    "\n",
    "5. **Dashboard Development**  \n",
    "   Create interactive and visually engaging dashboards in Power BI for stakeholder communication and ongoing business monitoring."
   ]
  },
  {
   "cell_type": "markdown",
   "id": "e49eee8c",
   "metadata": {},
   "source": [
    "## Load Data"
   ]
  },
  {
   "cell_type": "markdown",
   "id": "04242f94",
   "metadata": {},
   "source": [
    "## Initial EDA"
   ]
  },
  {
   "cell_type": "markdown",
   "id": "6bd0d861",
   "metadata": {},
   "source": [
    "## Data Cleaning"
   ]
  },
  {
   "cell_type": "markdown",
   "id": "7188fe2e",
   "metadata": {},
   "source": [
    "## Feature Engineering"
   ]
  },
  {
   "cell_type": "markdown",
   "id": "f005384a",
   "metadata": {},
   "source": [
    "## Saving Results"
   ]
  },
  {
   "cell_type": "markdown",
   "id": "41c43539",
   "metadata": {},
   "source": [
    "## Summary of Cleaning Steps"
   ]
  },
  {
   "cell_type": "markdown",
   "id": "6bd5b9b4",
   "metadata": {},
   "source": [
    "## Notes"
   ]
  }
 ],
 "metadata": {
  "language_info": {
   "name": "python"
  }
 },
 "nbformat": 4,
 "nbformat_minor": 5
}
