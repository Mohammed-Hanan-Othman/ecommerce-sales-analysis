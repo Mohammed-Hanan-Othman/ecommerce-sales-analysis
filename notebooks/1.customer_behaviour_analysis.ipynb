{
 "cells": [
  {
   "cell_type": "markdown",
   "id": "2b1b3d3f",
   "metadata": {},
   "source": [
    "# 🧍‍♂️🧍‍♀️ Customer Behavior Analysis"
   ]
  },
  {
   "cell_type": "markdown",
   "id": "4e40661a",
   "metadata": {},
   "source": [
    "## 🎯 Objectives"
   ]
  },
  {
   "cell_type": "markdown",
   "id": "9f601e96",
   "metadata": {},
   "source": [
    "This notebook explores customer behavior patterns in the e-commerce dataset. The main goals are to:\n",
    "\n",
    "- Identify who spends more: men or women.\n",
    "- Analyze which age groups spend or buy the most.\n",
    "- Explore buying frequency and recency.\n",
    "- Examine product category preferences by gender and age.\n",
    "- Understand regional buying patterns.\n",
    "- Assess if shipping outcomes impact customer behavior."
   ]
  },
  {
   "cell_type": "markdown",
   "id": "b8ba4dd1",
   "metadata": {},
   "source": [
    "## 📦 Data Source"
   ]
  },
  {
   "cell_type": "markdown",
   "id": "1323cd67",
   "metadata": {},
   "source": [
    "\n",
    "The data used here is the cleaned version of the original sales dataset:\n",
    "- File: `../data/cleaned_orders.csv`\n",
    "- Format: CSV\n",
    "- Rows represent individual product orders with associated customer and order details."
   ]
  },
  {
   "cell_type": "markdown",
   "id": "37c01052",
   "metadata": {},
   "source": [
    "## 📊 Data Loading"
   ]
  },
  {
   "cell_type": "markdown",
   "id": "aa5750d8",
   "metadata": {},
   "source": [
    "## Analysis"
   ]
  },
  {
   "cell_type": "markdown",
   "id": "9b32e1d7",
   "metadata": {},
   "source": [
    "### 📊 1. Spending Patterns by Gender"
   ]
  },
  {
   "cell_type": "markdown",
   "id": "a0201714",
   "metadata": {},
   "source": [
    "### 📊 2. Spending Patterns by Age Group"
   ]
  },
  {
   "cell_type": "markdown",
   "id": "6a6b0d9d",
   "metadata": {},
   "source": [
    "### 📊 3. Category Preferences by Gender & Age"
   ]
  },
  {
   "cell_type": "markdown",
   "id": "d89ce0fe",
   "metadata": {},
   "source": [
    "### 📊 4. Frequency & Recency"
   ]
  },
  {
   "cell_type": "markdown",
   "id": "2dff7eea",
   "metadata": {},
   "source": [
    "### 📊 5. Region-Based Insights"
   ]
  },
  {
   "cell_type": "markdown",
   "id": "9398df93",
   "metadata": {},
   "source": [
    "### 📊 6. Shipping Status vs Customer Spend"
   ]
  },
  {
   "cell_type": "markdown",
   "id": "bea5f981",
   "metadata": {},
   "source": [
    "## 📌Summary of Insights"
   ]
  },
  {
   "cell_type": "markdown",
   "id": "e658d73d",
   "metadata": {},
   "source": [
    "## 📝 Usage Information"
   ]
  },
  {
   "cell_type": "markdown",
   "id": "9142a8b2",
   "metadata": {},
   "source": [
    "This notebook is open for educational and non-commercial use.\n",
    "Feel free to reuse, modify, or reference this work as part of your learning or projects."
   ]
  }
 ],
 "metadata": {
  "language_info": {
   "name": "python"
  }
 },
 "nbformat": 4,
 "nbformat_minor": 5
}
