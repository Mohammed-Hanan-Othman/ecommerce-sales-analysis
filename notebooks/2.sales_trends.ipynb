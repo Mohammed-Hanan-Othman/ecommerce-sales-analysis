{
 "cells": [
  {
   "cell_type": "markdown",
   "id": "fa1b51f7",
   "metadata": {},
   "source": [
    "# 💰💰 Sales Trends Analysis"
   ]
  },
  {
   "cell_type": "markdown",
   "id": "5f848a50",
   "metadata": {},
   "source": [
    "## 🎯 Objectives"
   ]
  },
  {
   "cell_type": "markdown",
   "id": "66728e04",
   "metadata": {},
   "source": [
    "This notebook explores sales and revenue trends in the e-commerce dataset. The main goals are to:\n",
    "\n",
    "- Analyze revenue and order trends over time (monthly, quarterly)\n",
    "- Identify seasonal peaks\n",
    "- Track performance across regions\n",
    "- Track performance by product and customer demographics"
   ]
  },
  {
   "cell_type": "markdown",
   "id": "3e0386e2",
   "metadata": {},
   "source": [
    "## 📦 Data Source"
   ]
  },
  {
   "cell_type": "markdown",
   "id": "c28fffd3",
   "metadata": {},
   "source": [
    "The data used here is the cleaned version of the original sales dataset:\n",
    "- File: `../data/cleaned_orders.csv`\n",
    "- Format: CSV\n",
    "- Rows represent individual product orders with associated customer and order details."
   ]
  },
  {
   "cell_type": "markdown",
   "id": "b14e2ec7",
   "metadata": {},
   "source": [
    "## 📊 Data Loading"
   ]
  },
  {
   "cell_type": "markdown",
   "id": "ad5fbc9c",
   "metadata": {},
   "source": [
    "## Analysis"
   ]
  },
  {
   "cell_type": "markdown",
   "id": "f3b34bac",
   "metadata": {},
   "source": [
    "## 📌Summary of Insights"
   ]
  },
  {
   "cell_type": "markdown",
   "id": "c08af90f",
   "metadata": {},
   "source": [
    "## 📝 Usage Information"
   ]
  },
  {
   "cell_type": "markdown",
   "id": "e6bf287b",
   "metadata": {},
   "source": [
    "This notebook is open for educational and non-commercial use.\n",
    "Feel free to reuse, modify, or reference this work as part of your learning or projects."
   ]
  }
 ],
 "metadata": {
  "language_info": {
   "name": "python"
  }
 },
 "nbformat": 4,
 "nbformat_minor": 5
}
